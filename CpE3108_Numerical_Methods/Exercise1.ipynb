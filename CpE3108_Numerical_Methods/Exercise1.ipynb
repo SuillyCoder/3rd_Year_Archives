{
 "cells": [
  {
   "cell_type": "code",
   "execution_count": 21,
   "id": "a4185f3f",
   "metadata": {},
   "outputs": [
    {
     "name": "stdout",
     "output_type": "stream",
     "text": [
      "Absolute Error: 5.709159999955915e-05\n",
      "Relative Error: 7.986282020122524e-06\n",
      "Absolute Error: 0.29999999999998295\n",
      "Relative Error: 0.0020519835841312103\n"
     ]
    }
   ],
   "source": [
    "xTrue = 7.1487082294\n",
    "xApprox = 7.148765321\n",
    "Ax = abs(xTrue - xApprox)\n",
    "Rx = Ax/xTrue\n",
    "print(\"Absolute Error: \" + str(Ax))\n",
    "print(\"Relative Error: \" + str(Rx))\n",
    "\n",
    "yTrue = 146.2\n",
    "yApprox = 145.9\n",
    "Ay = abs(yTrue - yApprox)\n",
    "Ry = Ay/yTrue\n",
    "print(\"Absolute Error: \" + str(Ay))\n",
    "print(\"Relative Error: \" + str(Ry))\n",
    "\n"
   ]
  },
  {
   "cell_type": "code",
   "execution_count": 48,
   "id": "9976246d",
   "metadata": {},
   "outputs": [
    {
     "name": "stdout",
     "output_type": "stream",
     "text": [
      "7.986282020122524e-06 < 5.0\n",
      "7.986282020122524e-06 < 0.5\n",
      "7.986282020122524e-06 < 0.05\n",
      "7.986282020122524e-06 < 0.005\n",
      "7.986282020122524e-06 < 0.0005\n",
      "7.986282020122524e-06 < 5e-05\n",
      "5 Significant digits for X\n"
     ]
    }
   ],
   "source": [
    "\n",
    "xSigs = 0 \n",
    "ySigs = 0\n",
    "\n",
    "d = 0\n",
    "cond = (10**(1-d)) / 2 \n",
    "\n",
    "while (Rx < cond):\n",
    "  print(str(Rx) + \" < \" + str(cond))\n",
    "  xSigs+=1\n",
    "  d+=1\n",
    "  cond = (10**(1-d)) / 2 \n",
    "  \n",
    "print(str(d-1) + \" Significant digits for X\")\n",
    "\n"
   ]
  },
  {
   "cell_type": "code",
   "execution_count": 23,
   "id": "a57e8c1b",
   "metadata": {},
   "outputs": [
    {
     "name": "stdout",
     "output_type": "stream",
     "text": [
      "Absolute Error: 1.4\n",
      "Relative Error: 0.09655172413793103\n"
     ]
    }
   ],
   "source": [
    "measurement = 14.5\n",
    "Am = 1.4\n",
    "Rm = Am / measurement\n",
    "print(\"Absolute Error: \" + str(Am))\n",
    "print(\"Relative Error: \" + str(Rm))"
   ]
  },
  {
   "cell_type": "code",
   "execution_count": 36,
   "id": "d70f928b",
   "metadata": {},
   "outputs": [
    {
     "name": "stdout",
     "output_type": "stream",
     "text": [
      "Upper Limit: 49.215\n",
      "Lower Limit: 47.285\n"
     ]
    }
   ],
   "source": [
    "p = 48.25\n",
    "Rp = 2/100\n",
    "Ap = p * Rp\n",
    "print(\"Upper Limit: \" + str(p + Ap))\n",
    "print(\"Lower Limit: \" + str(p - Ap))"
   ]
  },
  {
   "cell_type": "code",
   "execution_count": 25,
   "id": "48416eea",
   "metadata": {},
   "outputs": [
    {
     "name": "stdout",
     "output_type": "stream",
     "text": [
      "Value of f(x): 36.048601295021676\n",
      "Value of g(x): 36.04860129502167\n"
     ]
    }
   ],
   "source": [
    "x = 3.14159\n",
    "\n",
    "def fx (x):\n",
    "    fFunction = (x-2)*(x+3)*(x+2)\n",
    "    return fFunction\n",
    "\n",
    "def gx (x):\n",
    "    gFunction = (x**3) + (3*(x**2)) - (4*x) - 12\n",
    "    return gFunction\n",
    "\n",
    "print(\"Value of f(x): \" + str(fx(x)))\n",
    "print(\"Value of g(x): \" + str(gx(x)))\n",
    "\n"
   ]
  },
  {
   "cell_type": "code",
   "execution_count": null,
   "id": "cc62312c",
   "metadata": {},
   "outputs": [
    {
     "name": "stdout",
     "output_type": "stream",
     "text": [
      "0.5\n",
      "0.5\n",
      "0.1875\n",
      "0.041666666666666664\n",
      "0.006510416666666666\n",
      "Result using 5 terms:1.2356770833333335\n",
      "0.5\n",
      "0.5\n",
      "0.1875\n",
      "0.041666666666666664\n",
      "0.006510416666666666\n",
      "0.00078125\n",
      "Result using 6 terms:1.2364583333333334\n",
      "\n",
      "Absolute Error (from 6A and 6B): 0.000781250000000\n",
      "Relative Error (from 6A and 6B): 0.000631844987363\n"
     ]
    }
   ],
   "source": [
    "import math\n",
    "\n",
    "def taylor_series_integral(n_terms):\n",
    "    \"\"\"\n",
    "    Evaluates the definite integral of e^x from 0 to 0.5\n",
    "    using the first 'n_terms' of its Taylor series.\n",
    "    \"\"\"\n",
    "    total = 0\n",
    "    for n in range(n_terms):\n",
    "        term = (0.5**(n + 1)) / math.factorial(n) * (n+1)\n",
    "     \n"
   ]
  }
 ],
 "metadata": {
  "kernelspec": {
   "display_name": "Python 3",
   "language": "python",
   "name": "python3"
  },
  "language_info": {
   "codemirror_mode": {
    "name": "ipython",
    "version": 3
   },
   "file_extension": ".py",
   "mimetype": "text/x-python",
   "name": "python",
   "nbconvert_exporter": "python",
   "pygments_lexer": "ipython3",
   "version": "3.12.2"
  }
 },
 "nbformat": 4,
 "nbformat_minor": 5
}
